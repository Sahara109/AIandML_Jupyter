{
 "cells": [
  {
   "cell_type": "markdown",
   "id": "67ee4c7c-255c-4ecb-9fdb-e2cc0212fdc1",
   "metadata": {},
   "source": [
    "Name: Sahara Khan\n",
    "Student ID: 2331442"
   ]
  },
  {
   "cell_type": "markdown",
   "id": "66b85eea-34d8-4aba-961f-9267bed4c942",
   "metadata": {},
   "source": [
    "Task 1 "
   ]
  },
  {
   "cell_type": "code",
   "execution_count": 2,
   "id": "47781f98-1201-42d0-95a8-a59a2dc34c2b",
   "metadata": {},
   "outputs": [
    {
     "name": "stdout",
     "output_type": "stream",
     "text": [
      "Welcome to Sahara Unit Converter!\n",
      "Choose a conversion type as per your wish:\n",
      "1. Length\n",
      "2. Weight\n",
      "3. Volume\n"
     ]
    },
    {
     "name": "stdin",
     "output_type": "stream",
     "text": [
      "Enter the number of your choice (1/2/3):  2\n",
      "Enter the value to be converted:  70\n"
     ]
    },
    {
     "name": "stdout",
     "output_type": "stream",
     "text": [
      "Choose the conversion:\n",
      "1. Kilograms to Pounds\n",
      "2. Pounds to Kilograms\n"
     ]
    },
    {
     "name": "stdin",
     "output_type": "stream",
     "text": [
      "Enter the number of your choice (1/2):  1\n"
     ]
    },
    {
     "name": "stdout",
     "output_type": "stream",
     "text": [
      "70.0 kilograms is equal to 154.3234 pounds.\n"
     ]
    }
   ],
   "source": [
    "def convert_length(value, conversion_type):\n",
    "    \"\"\"\n",
    "    Converts between meters and feet based on the conversion type.\n",
    "    \n",
    "    Parameters:\n",
    "    value (float): The value to be converted.\n",
    "    conversion_type (str): The type of conversion (\"m_to_ft\" or \"ft_to_m\").\n",
    "    \n",
    "    Returns:\n",
    "    float: The converted value.\n",
    "    \"\"\"\n",
    "    if conversion_type == \"m_to_ft\":\n",
    "        return value * 3.28084  # 1 meter = 3.28084 feet\n",
    "    elif conversion_type == \"ft_to_m\":\n",
    "        return value / 3.28084  # 1 foot = 0.3048 meters\n",
    "    else:\n",
    "        raise ValueError(\"Unsupported conversion type for length\")\n",
    "\n",
    "def convert_weight(value, conversion_type):\n",
    "    \"\"\"\n",
    "    Converts between kilograms and pounds based on the conversion type.\n",
    "    \n",
    "    Parameters:\n",
    "    value (float): The value to be converted.\n",
    "    conversion_type (str): The type of conversion (\"kg_to_lbs\" or \"lbs_to_kg\").\n",
    "    \n",
    "    Returns:\n",
    "    float: The converted value.\n",
    "    \"\"\"\n",
    "    if conversion_type == \"kg_to_lbs\":\n",
    "        return value * 2.20462  # 1 kilogram = 2.20462 pounds\n",
    "    elif conversion_type == \"lbs_to_kg\":\n",
    "        return value / 2.20462  # 1 pound = 0.453592 kilograms\n",
    "    else:\n",
    "        raise ValueError(\"Unsupported conversion type for weight\")\n",
    "\n",
    "def convert_volume(value, conversion_type):\n",
    "    \"\"\"\n",
    "    Converts between liters and gallons based on the conversion type.\n",
    "    \n",
    "    Parameters:\n",
    "    value (float): The value to be converted.\n",
    "    conversion_type (str): The type of conversion (\"L_to_gal\" or \"gal_to_L\").\n",
    "    \n",
    "    Returns:\n",
    "    float: The converted value.\n",
    "    \"\"\"\n",
    "    if conversion_type == \"L_to_gal\":\n",
    "        return value * 0.264172  # 1 liter = 0.264172 gallons\n",
    "    elif conversion_type == \"gal_to_L\":\n",
    "        return value / 0.264172  # 1 gallon = 3.78541 liters\n",
    "    else:\n",
    "        raise ValueError(\"Unsupported conversion type for volume\")\n",
    "\n",
    "def main():\n",
    "    print(\"Welcome to Sahara Unit Converter!\")\n",
    "\n",
    "    # Choose conversion type\n",
    "    print(\"Choose a conversion type as per your wish:\")\n",
    "    print(\"1. Length\")\n",
    "    print(\"2. Weight\")\n",
    "    print(\"3. Volume\")\n",
    "    try:\n",
    "        conversion_choice = int(input(\"Enter the number of your choice (1/2/3): \"))\n",
    "        if conversion_choice not in [1, 2, 3]:\n",
    "            raise ValueError(\"Invalid option selected!\")\n",
    "        \n",
    "        # Get value to convert\n",
    "        value = float(input(\"Enter the value to be converted: \"))\n",
    "        \n",
    "        if conversion_choice == 1:  # Length\n",
    "            print(\"Choose the conversion:\")\n",
    "            print(\"1. Meters to Feet\")\n",
    "            print(\"2. Feet to Meters\")\n",
    "            length_choice = int(input(\"Enter the number of your choice (1/2): \"))\n",
    "            if length_choice == 1:\n",
    "                result = convert_length(value, \"m_to_ft\")\n",
    "                print(f\"{value} meters is equal to {result} feet.\")\n",
    "            elif length_choice == 2:\n",
    "                result = convert_length(value, \"ft_to_m\")\n",
    "                print(f\"{value} feet is equal to {result} meters.\")\n",
    "            else:\n",
    "                print(\"Invalid choice for length conversion.\")\n",
    "        \n",
    "        elif conversion_choice == 2:  # Weight\n",
    "            print(\"Choose the conversion:\")\n",
    "            print(\"1. Kilograms to Pounds\")\n",
    "            print(\"2. Pounds to Kilograms\")\n",
    "            weight_choice = int(input(\"Enter the number of your choice (1/2): \"))\n",
    "            if weight_choice == 1:\n",
    "                result = convert_weight(value, \"kg_to_lbs\")\n",
    "                print(f\"{value} kilograms is equal to {result} pounds.\")\n",
    "            elif weight_choice == 2:\n",
    "                result = convert_weight(value, \"lbs_to_kg\")\n",
    "                print(f\"{value} pounds is equal to {result} kilograms.\")\n",
    "            else:\n",
    "                print(\"Invalid choice for weight conversion.\")\n",
    "        \n",
    "        elif conversion_choice == 3:  # Volume\n",
    "            print(\"Choose the conversion:\")\n",
    "            print(\"1. Liters to Gallons\")\n",
    "            print(\"2. Gallons to Liters\")\n",
    "            volume_choice = int(input(\"Enter the number of your choice (1/2): \"))\n",
    "            if volume_choice == 1:\n",
    "                result = convert_volume(value, \"L_to_gal\")\n",
    "                print(f\"{value} liters is equal to {result} gallons.\")\n",
    "            elif volume_choice == 2:\n",
    "                result = convert_volume(value, \"gal_to_L\")\n",
    "                print(f\"{value} gallons is equal to {result} liters.\")\n",
    "            else:\n",
    "                print(\"Invalid choice for volume conversion.\")\n",
    "        \n",
    "        else:\n",
    "            print(\"Invalid choice!\")\n",
    "    \n",
    "    except ValueError as e:\n",
    "        print(f\"Error: {e}. Please ensure you input valid data.\")\n",
    "\n",
    "# Run the main function\n",
    "if __name__ == \"__main__\":\n",
    "    main()\n"
   ]
  },
  {
   "cell_type": "markdown",
   "id": "d28be691-c2c7-41a0-aaff-0c48e851110a",
   "metadata": {},
   "source": [
    "Task 2 "
   ]
  },
  {
   "cell_type": "code",
   "execution_count": 4,
   "id": "1ea4d361-2af6-4583-bdb7-6b5c9891e026",
   "metadata": {},
   "outputs": [
    {
     "name": "stdout",
     "output_type": "stream",
     "text": [
      "Welcome to Sahara's Mathematical Operations Program!\n",
      "Choose an operation:\n",
      "1. Find the sum\n",
      "2. Find the average\n",
      "3. Find the maximum\n",
      "4. Find the minimum\n"
     ]
    },
    {
     "name": "stdin",
     "output_type": "stream",
     "text": [
      "Enter the number of your choice (1/2/3/4):  3\n",
      "Enter a list of numbers separated by spaces:  23 45 67 88 19 22 \n"
     ]
    },
    {
     "name": "stdout",
     "output_type": "stream",
     "text": [
      "The maximum value in the list is: 88.0\n"
     ]
    }
   ],
   "source": [
    "def find_sum(numbers):\n",
    "    \"\"\"\n",
    "    Calculates the sum of a list of numbers.\n",
    "    \n",
    "    Parameters:\n",
    "    numbers (list): A list of numbers.\n",
    "    \n",
    "    Returns:\n",
    "    float: The sum of the numbers.\n",
    "    \"\"\"\n",
    "    return sum(numbers)\n",
    "\n",
    "def find_average(numbers):\n",
    "    \"\"\"\n",
    "    Calculates the average of a list of numbers.\n",
    "    \n",
    "    Parameters:\n",
    "    numbers (list): A list of numbers.\n",
    "    \n",
    "    Returns:\n",
    "    float: The average of the numbers.\n",
    "    \"\"\"\n",
    "    if len(numbers) == 0:\n",
    "        raise ValueError(\"The list is empty. Cannot calculate the average.\")\n",
    "    return sum(numbers) / len(numbers)\n",
    "\n",
    "def find_maximum(numbers):\n",
    "    \"\"\"\n",
    "    Finds the maximum value in a list of numbers.\n",
    "    \n",
    "    Parameters:\n",
    "    numbers (list): A list of numbers.\n",
    "    \n",
    "    Returns:\n",
    "    float: The maximum value in the list.\n",
    "    \"\"\"\n",
    "    if len(numbers) == 0:\n",
    "        raise ValueError(\"The list is empty. Cannot find the maximum.\")\n",
    "    return max(numbers)\n",
    "\n",
    "def find_minimum(numbers):\n",
    "    \"\"\"\n",
    "    Finds the minimum value in a list of numbers.\n",
    "    \n",
    "    Parameters:\n",
    "    numbers (list): A list of numbers.\n",
    "    \n",
    "    Returns:\n",
    "    float: The minimum value in the list.\n",
    "    \"\"\"\n",
    "    if len(numbers) == 0:\n",
    "        raise ValueError(\"The list is empty. Cannot find the minimum.\")\n",
    "    return min(numbers)\n",
    "\n",
    "def main():\n",
    "    print(\"Welcome to Sahara's Mathematical Operations Program!\")\n",
    "\n",
    "    # Choose operation\n",
    "    print(\"Choose an operation:\")\n",
    "    print(\"1. Find the sum\")\n",
    "    print(\"2. Find the average\")\n",
    "    print(\"3. Find the maximum\")\n",
    "    print(\"4. Find the minimum\")\n",
    "    \n",
    "    try:\n",
    "        operation_choice = int(input(\"Enter the number of your choice (1/2/3/4): \"))\n",
    "        if operation_choice not in [1, 2, 3, 4]:\n",
    "            raise ValueError(\"Invalid operation selected!\")\n",
    "        \n",
    "        # Get list of numbers\n",
    "        numbers_input = input(\"Enter a list of numbers separated by spaces: \")\n",
    "        numbers = [float(num) for num in numbers_input.split()]\n",
    "        \n",
    "        if not numbers:\n",
    "            raise ValueError(\"The list cannot be empty.\")\n",
    "        \n",
    "        # Perform the selected operation\n",
    "        if operation_choice == 1:\n",
    "            result = find_sum(numbers)\n",
    "            print(f\"The sum of the numbers is: {result}\")\n",
    "        elif operation_choice == 2:\n",
    "            result = find_average(numbers)\n",
    "            print(f\"The average of the numbers is: {result}\")\n",
    "        elif operation_choice == 3:\n",
    "            result = find_maximum(numbers)\n",
    "            print(f\"The maximum value in the list is: {result}\")\n",
    "        elif operation_choice == 4:\n",
    "            result = find_minimum(numbers)\n",
    "            print(f\"The minimum value in the list is: {result}\")\n",
    "    \n",
    "    except ValueError as e:\n",
    "        print(f\"Error: {e}. Please ensure you input valid data.\")\n",
    "\n",
    "# Run the main function\n",
    "if __name__ == \"__main__\":\n",
    "    main()\n"
   ]
  },
  {
   "cell_type": "markdown",
   "id": "3cc81238-9252-41b9-bd62-0fa2b58f1416",
   "metadata": {},
   "source": [
    "Exercise on List Manipulation:"
   ]
  },
  {
   "cell_type": "code",
   "execution_count": 6,
   "id": "e06585c3-8a8f-464b-b9fe-3eeadb9a3df3",
   "metadata": {},
   "outputs": [
    {
     "name": "stdin",
     "output_type": "stream",
     "text": [
      "Enter a list of numbers separated by spaces:  2 4 6 8 10\n"
     ]
    },
    {
     "name": "stdout",
     "output_type": "stream",
     "text": [
      "The extracted list with every other element is: [2, 6, 10]\n"
     ]
    }
   ],
   "source": [
    "#1. Extract Every Other Element:\n",
    "def extract_every_other(lst):\n",
    "    \"\"\"\n",
    "    Extracts every other element from the list, starting from the first element.\n",
    "    \n",
    "    Parameters:\n",
    "    lst (list): A list of elements.\n",
    "    \n",
    "    Returns:\n",
    "    list: A new list containing every other element from the original list.\n",
    "    \"\"\"\n",
    "    return lst[::2]\n",
    "\n",
    "# User input\n",
    "user_input = input(\"Enter a list of numbers separated by spaces: \")\n",
    "\n",
    "# Convert the user input string into a list of integers\n",
    "input_list = [int(i) for i in user_input.split()]\n",
    "\n",
    "# Get the result from the function\n",
    "output_list = extract_every_other(input_list)\n",
    "\n",
    "# Print the result\n",
    "print(\"The extracted list with every other element is:\", output_list)\n"
   ]
  },
  {
   "cell_type": "code",
   "execution_count": 8,
   "id": "c87618ab-4a89-43ae-88db-26680b7613d0",
   "metadata": {},
   "outputs": [
    {
     "name": "stdin",
     "output_type": "stream",
     "text": [
      "Enter a list of numbers separated by spaces:  22 20 25 26 24\n",
      "Enter the start index:  1\n",
      "Enter the end index:  4\n"
     ]
    },
    {
     "name": "stdout",
     "output_type": "stream",
     "text": [
      "The extracted sublist is: [20, 25, 26, 24]\n"
     ]
    }
   ],
   "source": [
    "#2. Slice a Sublist:\n",
    "def get_sublist(lst, start, end):\n",
    "    \"\"\"\n",
    "    Returns a sublist from the list starting from the given start index and ending at the given end index (inclusive).\n",
    "    \n",
    "    Parameters:\n",
    "    lst (list): The list from which the sublist is to be extracted.\n",
    "    start (int): The starting index for the sublist (inclusive).\n",
    "    end (int): The ending index for the sublist (inclusive).\n",
    "    \n",
    "    Returns:\n",
    "    list: A sublist from the start to end index (inclusive).\n",
    "    \"\"\"\n",
    "    return lst[start:end+1]\n",
    "\n",
    "# User input for the list\n",
    "user_input = input(\"Enter a list of numbers separated by spaces: \")\n",
    "\n",
    "# Convert the user input string into a list of integers\n",
    "input_list = [int(i) for i in user_input.split()]\n",
    "\n",
    "# User input for the start and end indices\n",
    "start_index = int(input(\"Enter the start index: \"))\n",
    "end_index = int(input(\"Enter the end index: \"))\n",
    "\n",
    "# Get the result from the function\n",
    "output_list = get_sublist(input_list, start_index, end_index)\n",
    "\n",
    "# Print the result\n",
    "print(\"The extracted sublist is:\", output_list)\n"
   ]
  },
  {
   "cell_type": "code",
   "execution_count": 9,
   "id": "8d148c36-b801-42c4-ae45-0f8d32fc61fc",
   "metadata": {},
   "outputs": [
    {
     "name": "stdin",
     "output_type": "stream",
     "text": [
      "Enter a list of numbers separated by spaces:  20 33 56 78 12 23 \n"
     ]
    },
    {
     "name": "stdout",
     "output_type": "stream",
     "text": [
      "The reversed list is: [23, 12, 78, 56, 33, 20]\n"
     ]
    }
   ],
   "source": [
    "#3. Reverse a List Using Slicing:\n",
    "def reverse_list(lst):\n",
    "    \"\"\"\n",
    "    Reverses the given list using slicing.\n",
    "    \n",
    "    Parameters:\n",
    "    lst (list): The list to be reversed.\n",
    "    \n",
    "    Returns:\n",
    "    list: The reversed list.\n",
    "    \"\"\"\n",
    "    return lst[::-1]\n",
    "\n",
    "# User input for the list\n",
    "user_input = input(\"Enter a list of numbers separated by spaces: \")\n",
    "\n",
    "# Convert the user input string into a list of integers\n",
    "input_list = [int(i) for i in user_input.split()]\n",
    "\n",
    "# Get the reversed list from the function\n",
    "reversed_list = reverse_list(input_list)\n",
    "\n",
    "# Print the reversed list\n",
    "print(\"The reversed list is:\", reversed_list)\n"
   ]
  },
  {
   "cell_type": "code",
   "execution_count": 10,
   "id": "c6e32cc0-df40-4cfa-98d9-54e1105737d0",
   "metadata": {},
   "outputs": [
    {
     "name": "stdin",
     "output_type": "stream",
     "text": [
      "Enter a list of numbers separated by spaces:  1 2 3 4 5 17\n"
     ]
    },
    {
     "name": "stdout",
     "output_type": "stream",
     "text": [
      "The list after removing the first and last elements is: [2, 3, 4, 5]\n"
     ]
    }
   ],
   "source": [
    "#4. Remove the First and Last Elements:\n",
    "def remove_first_last(lst):\n",
    "    \"\"\"\n",
    "    Removes the first and last elements of the list and returns the resulting sublist.\n",
    "    \n",
    "    Parameters:\n",
    "    lst (list): The list from which the first and last elements will be removed.\n",
    "    \n",
    "    Returns:\n",
    "    list: The sublist without the first and last elements.\n",
    "    \"\"\"\n",
    "    return lst[1:-1]\n",
    "\n",
    "# User input for the list\n",
    "user_input = input(\"Enter a list of numbers separated by spaces: \")\n",
    "\n",
    "# Convert the user input string into a list of integers\n",
    "input_list = [int(i) for i in user_input.split()]\n",
    "\n",
    "# Get the sublist after removing the first and last elements\n",
    "resulting_sublist = remove_first_last(input_list)\n",
    "\n",
    "# Print the resulting sublist\n",
    "print(\"The list after removing the first and last elements is:\", resulting_sublist)\n"
   ]
  },
  {
   "cell_type": "code",
   "execution_count": 11,
   "id": "59e46fc4-e401-4cb8-a845-fe51dc1c2785",
   "metadata": {},
   "outputs": [
    {
     "name": "stdin",
     "output_type": "stream",
     "text": [
      "Enter a list of numbers separated by spaces:  23 34 42 51 21\n",
      "Enter the number of elements to extract:  3\n"
     ]
    },
    {
     "name": "stdout",
     "output_type": "stream",
     "text": [
      "The first 3 elements are: [23, 34, 42]\n"
     ]
    }
   ],
   "source": [
    "#5. Get the First n Elements:\n",
    "def get_first_n(lst, n):\n",
    "    \"\"\"\n",
    "    Extracts the first n elements from the list using slicing.\n",
    "    \n",
    "    Parameters:\n",
    "    lst (list): The list from which the first n elements will be extracted.\n",
    "    n (int): The number of elements to extract from the beginning of the list.\n",
    "    \n",
    "    Returns:\n",
    "    list: A list containing the first n elements.\n",
    "    \"\"\"\n",
    "    return lst[:n]\n",
    "\n",
    "# User input for the list\n",
    "user_input = input(\"Enter a list of numbers separated by spaces: \")\n",
    "\n",
    "# Convert the user input string into a list of integers\n",
    "input_list = [int(i) for i in user_input.split()]\n",
    "\n",
    "# User input for the number of elements to extract\n",
    "n = int(input(\"Enter the number of elements to extract: \"))\n",
    "\n",
    "# Get the first n elements using the function\n",
    "first_n_elements = get_first_n(input_list, n)\n",
    "\n",
    "# Print the result\n",
    "print(\"The first\", n, \"elements are:\", first_n_elements)\n"
   ]
  },
  {
   "cell_type": "code",
   "execution_count": 12,
   "id": "4f375814-b773-4598-869e-d3c631b6a895",
   "metadata": {},
   "outputs": [
    {
     "name": "stdin",
     "output_type": "stream",
     "text": [
      "Enter a list of numbers separated by spaces:  94 37 63 59 12\n",
      "Enter the number of elements to extract from the end:  3\n"
     ]
    },
    {
     "name": "stdout",
     "output_type": "stream",
     "text": [
      "The last 3 elements are: [63, 59, 12]\n"
     ]
    }
   ],
   "source": [
    "#6. Extract Elements from the End:\n",
    "def get_last_n(lst, n):\n",
    "    \"\"\"\n",
    "    Extracts the last n elements from the list using slicing.\n",
    "    \n",
    "    Parameters:\n",
    "    lst (list): The list from which the last n elements will be extracted.\n",
    "    n (int): The number of elements to extract from the end of the list.\n",
    "    \n",
    "    Returns:\n",
    "    list: A list containing the last n elements.\n",
    "    \"\"\"\n",
    "    return lst[-n:]\n",
    "\n",
    "# User input for the list\n",
    "user_input = input(\"Enter a list of numbers separated by spaces: \")\n",
    "\n",
    "# Convert the user input string into a list of integers\n",
    "input_list = [int(i) for i in user_input.split()]\n",
    "\n",
    "# User input for the number of elements to extract\n",
    "n = int(input(\"Enter the number of elements to extract from the end: \"))\n",
    "\n",
    "# Get the last n elements using the function\n",
    "last_n_elements = get_last_n(input_list, n)\n",
    "\n",
    "# Print the result\n",
    "print(\"The last\", n, \"elements are:\", last_n_elements)\n"
   ]
  },
  {
   "cell_type": "code",
   "execution_count": 13,
   "id": "db579983-f985-4a99-959e-8e16817a48d9",
   "metadata": {},
   "outputs": [
    {
     "name": "stdin",
     "output_type": "stream",
     "text": [
      "Enter a list of numbers separated by spaces:  1 2 3 4 5 \n"
     ]
    },
    {
     "name": "stdout",
     "output_type": "stream",
     "text": [
      "The extracted list in reverse order skipping one element is: [4, 2]\n"
     ]
    }
   ],
   "source": [
    "#7. Extract Elements in Reverse Order:\n",
    "def reverse_skip(lst):\n",
    "    \"\"\"\n",
    "    Extracts every second element starting from the second-to-last element, moving backward.\n",
    "    \n",
    "    Parameters:\n",
    "    lst (list): The list from which elements are to be extracted.\n",
    "    \n",
    "    Returns:\n",
    "    list: A new list containing every second element starting from the second-to-last element.\n",
    "    \"\"\"\n",
    "    return lst[-2::-2]\n",
    "\n",
    "# User input for the list\n",
    "user_input = input(\"Enter a list of numbers separated by spaces: \")\n",
    "\n",
    "# Convert the user input string into a list of integers\n",
    "input_list = [int(i) for i in user_input.split()]\n",
    "\n",
    "# Get the result from the function\n",
    "result_list = reverse_skip(input_list)\n",
    "\n",
    "# Print the result\n",
    "print(\"The extracted list in reverse order skipping one element is:\", result_list)\n",
    "\n"
   ]
  },
  {
   "cell_type": "markdown",
   "id": "f06120e6-8020-48a1-a0f9-35ac83faf615",
   "metadata": {},
   "source": [
    "Exercise on Nested List:"
   ]
  },
  {
   "cell_type": "code",
   "execution_count": 14,
   "id": "81108f1d-10c5-4e85-b771-63c8b63b26d3",
   "metadata": {},
   "outputs": [
    {
     "name": "stdin",
     "output_type": "stream",
     "text": [
      "Enter a nested list (e.g., [[1, 2], [3, 4], [5]]):  [[2,3], [6,7], [9,8]]\n"
     ]
    },
    {
     "name": "stdout",
     "output_type": "stream",
     "text": [
      "The flattened list is: [2, 3, 6, 7, 9, 8]\n"
     ]
    }
   ],
   "source": [
    "#1. Flatten a Nested List:\n",
    "def flatten(lst):\n",
    "    \"\"\"\n",
    "    Flattens a nested list into a single list.\n",
    "    \n",
    "    Parameters:\n",
    "    lst (list): The nested list to be flattened.\n",
    "    \n",
    "    Returns:\n",
    "    list: A single list containing all the elements from the nested list.\n",
    "    \"\"\"\n",
    "    flattened_list = []\n",
    "    for sublist in lst:\n",
    "        # If the sublist is actually a list, extend the flattened list with its elements\n",
    "        flattened_list.extend(sublist)\n",
    "    return flattened_list\n",
    "\n",
    "# User input for the nested list\n",
    "user_input = input(\"Enter a nested list (e.g., [[1, 2], [3, 4], [5]]): \")\n",
    "\n",
    "# Convert the input string into an actual nested list\n",
    "nested_list = eval(user_input)\n",
    "\n",
    "# Get the flattened list\n",
    "flattened_result = flatten(nested_list)\n",
    "\n",
    "# Print the result\n",
    "print(\"The flattened list is:\", flattened_result)\n"
   ]
  },
  {
   "cell_type": "code",
   "execution_count": 15,
   "id": "09367e4c-e89d-49e6-9749-454c0df0a1e5",
   "metadata": {},
   "outputs": [
    {
     "name": "stdin",
     "output_type": "stream",
     "text": [
      "Enter a nested list (e.g., [[1, 2, 3], [4, 5, 6], [7, 8, 9]]):  [[1, 2, 3], [4, 5, 6], [7, 8, 9]]\n",
      "Enter the indices as a list (e.g., [1, 2]):  [2,1]\n"
     ]
    },
    {
     "name": "stdout",
     "output_type": "stream",
     "text": [
      "The element at the specified indices is: 8\n"
     ]
    }
   ],
   "source": [
    "#2. Accessing Nested List Elements:\n",
    "def access_nested_element(lst, indices):\n",
    "    \"\"\"\n",
    "    Extracts a specific element from a nested list given its indices.\n",
    "    \n",
    "    Parameters:\n",
    "    lst (list): The nested list from which the element will be accessed.\n",
    "    indices (list): A list of indices to access the element in the nested list.\n",
    "    \n",
    "    Returns:\n",
    "    The element at the specified indices in the nested list.\n",
    "    \"\"\"\n",
    "    element = lst\n",
    "    for index in indices:\n",
    "        element = element[index]\n",
    "    return element\n",
    "\n",
    "# User input for the nested list\n",
    "user_input = input(\"Enter a nested list (e.g., [[1, 2, 3], [4, 5, 6], [7, 8, 9]]): \")\n",
    "\n",
    "# Convert the input string into an actual nested list\n",
    "nested_list = eval(user_input)\n",
    "\n",
    "# User input for the list of indices\n",
    "indices_input = input(\"Enter the indices as a list (e.g., [1, 2]): \")\n",
    "\n",
    "# Convert the input string into a list of integers\n",
    "indices = [int(i) for i in indices_input.strip('[]').split(',')]\n",
    "\n",
    "# Get the element from the nested list using the function\n",
    "element = access_nested_element(nested_list, indices)\n",
    "\n",
    "# Print the result\n",
    "print(\"The element at the specified indices is:\", element)\n"
   ]
  },
  {
   "cell_type": "code",
   "execution_count": 16,
   "id": "8970b8c9-560f-49d1-b686-9e849c8f6f0a",
   "metadata": {},
   "outputs": [
    {
     "name": "stdin",
     "output_type": "stream",
     "text": [
      "Enter a nested list (e.g., [[1, 2], [3, [4, 5]], 6]):  [[1, 2], [3, [4, 5]], 6]\n"
     ]
    },
    {
     "name": "stdout",
     "output_type": "stream",
     "text": [
      "The sum of all elements in the nested list is: 21\n"
     ]
    }
   ],
   "source": [
    "#3. Sum of All Elements in a Nested List:\n",
    "def sum_nested(lst):\n",
    "    \"\"\"\n",
    "    Calculates the sum of all the numbers in a nested list, regardless of depth.\n",
    "    \n",
    "    Parameters:\n",
    "    lst (list): The nested list containing numbers.\n",
    "    \n",
    "    Returns:\n",
    "    int: The sum of all the elements in the nested list.\n",
    "    \"\"\"\n",
    "    total = 0\n",
    "    for element in lst:\n",
    "        if isinstance(element, list):\n",
    "            # Recursively call sum_nested to handle nested lists\n",
    "            total += sum_nested(element)\n",
    "        else:\n",
    "            total += element\n",
    "    return total\n",
    "\n",
    "# User input for the nested list\n",
    "user_input = input(\"Enter a nested list (e.g., [[1, 2], [3, [4, 5]], 6]): \")\n",
    "\n",
    "# Convert the input string into an actual nested list\n",
    "nested_list = eval(user_input)\n",
    "\n",
    "# Get the sum of all elements in the nested list\n",
    "result = sum_nested(nested_list)\n",
    "\n",
    "# Print the result\n",
    "print(\"The sum of all elements in the nested list is:\", result)\n"
   ]
  },
  {
   "cell_type": "code",
   "execution_count": 17,
   "id": "e2d8628f-0c07-483a-8814-c7b9ac4d91a2",
   "metadata": {},
   "outputs": [
    {
     "name": "stdin",
     "output_type": "stream",
     "text": [
      "Enter a nested list (e.g., [[1, 2], [3, 2], [4, 5]]):  [[1, 2], [3, 2], [4, 5]]\n",
      "Enter the element to remove:  2\n"
     ]
    },
    {
     "name": "stdout",
     "output_type": "stream",
     "text": [
      "The modified list is: [[1], [3], [4, 5]]\n"
     ]
    }
   ],
   "source": [
    "#4. Remove Specific Element from a Nested List:\n",
    "def remove_element(lst, elem):\n",
    "    \"\"\"\n",
    "    Removes all occurrences of a specific element from a nested list.\n",
    "    \n",
    "    Parameters:\n",
    "    lst (list): The nested list to remove the element from.\n",
    "    elem (any): The element to remove from the list.\n",
    "    \n",
    "    Returns:\n",
    "    list: The modified list with all occurrences of elem removed.\n",
    "    \"\"\"\n",
    "    # Iterate over the list and handle nested lists\n",
    "    for i in range(len(lst)):\n",
    "        if isinstance(lst[i], list):\n",
    "            # Recursively call remove_element on sublist\n",
    "            lst[i] = remove_element(lst[i], elem)\n",
    "        else:\n",
    "            # Remove the element if found\n",
    "            if lst[i] == elem:\n",
    "                lst[i] = None  # Mark element for removal (temporary)\n",
    "\n",
    "    # Remove None values (which are the marked elements) from the list\n",
    "    return [x for x in lst if x is not None]\n",
    "\n",
    "# User input for the nested list\n",
    "user_input = input(\"Enter a nested list (e.g., [[1, 2], [3, 2], [4, 5]]): \")\n",
    "\n",
    "# Convert the input string into an actual nested list\n",
    "nested_list = eval(user_input)\n",
    "\n",
    "# User input for the element to remove\n",
    "elem = input(\"Enter the element to remove: \")\n",
    "# Convert input to appropriate type (assuming it's a number)\n",
    "elem = int(elem) if elem.isdigit() else elem\n",
    "\n",
    "# Get the modified list after removing the element\n",
    "modified_list = remove_element(nested_list, elem)\n",
    "\n",
    "# Print the result\n",
    "print(\"The modified list is:\", modified_list)\n"
   ]
  },
  {
   "cell_type": "code",
   "execution_count": 18,
   "id": "e8a7ad0d-7f18-4a4c-a213-1b0a39e3814c",
   "metadata": {},
   "outputs": [
    {
     "name": "stdin",
     "output_type": "stream",
     "text": [
      "Enter a nested list (e.g., [[1, 2], [3, [4, 5]], 6]):  [[1, 2], [3, [4, 9]], 8]\n"
     ]
    },
    {
     "name": "stdout",
     "output_type": "stream",
     "text": [
      "The maximum element in the nested list is: 9\n"
     ]
    }
   ],
   "source": [
    "#5. Find the Maximum Element in a Nested List:\n",
    "def find_max(lst):\n",
    "    \"\"\"\n",
    "    Finds the maximum element in a nested list, regardless of depth.\n",
    "    \n",
    "    Parameters:\n",
    "    lst (list): The nested list to find the maximum element in.\n",
    "    \n",
    "    Returns:\n",
    "    int/float: The maximum element in the nested list.\n",
    "    \"\"\"\n",
    "    max_element = float('-inf')  # Initialize to the smallest possible value\n",
    "    \n",
    "    for element in lst:\n",
    "        if isinstance(element, list):\n",
    "            # Recursively call find_max to handle nested lists\n",
    "            max_element = max(max_element, find_max(element))\n",
    "        else:\n",
    "            # Compare the element with the current maximum\n",
    "            max_element = max(max_element, element)\n",
    "    \n",
    "    return max_element\n",
    "\n",
    "# User input for the nested list\n",
    "user_input = input(\"Enter a nested list (e.g., [[1, 2], [3, [4, 5]], 6]): \")\n",
    "\n",
    "# Convert the input string into an actual nested list\n",
    "nested_list = eval(user_input)\n",
    "\n",
    "# Get the maximum element in the nested list\n",
    "max_element = find_max(nested_list)\n",
    "\n",
    "# Print the result\n",
    "print(\"The maximum element in the nested list is:\", max_element)\n"
   ]
  },
  {
   "cell_type": "code",
   "execution_count": 19,
   "id": "f9b6b2bd-b083-41b7-8216-293007caede2",
   "metadata": {},
   "outputs": [
    {
     "name": "stdin",
     "output_type": "stream",
     "text": [
      "Enter a nested list (e.g., [[1, 2], [2, 3], [2, 4]]):  [[1, 2], [2, 3], [2, 2]]\n",
      "Enter the element to count:  2\n"
     ]
    },
    {
     "name": "stdout",
     "output_type": "stream",
     "text": [
      "The element 2 appears 4 times in the nested list.\n"
     ]
    }
   ],
   "source": [
    "#6. Count Occurrences of an Element in a Nested List:\n",
    "def count_occurrences(lst, elem):\n",
    "    \"\"\"\n",
    "    Counts the occurrences of a specific element in a nested list.\n",
    "    \n",
    "    Parameters:\n",
    "    lst (list): The nested list to count occurrences in.\n",
    "    elem (any): The element to count occurrences of.\n",
    "    \n",
    "    Returns:\n",
    "    int: The count of occurrences of elem in the nested list.\n",
    "    \"\"\"\n",
    "    count = 0\n",
    "    for element in lst:\n",
    "        if isinstance(element, list):\n",
    "            # Recursively call count_occurrences for sublist\n",
    "            count += count_occurrences(element, elem)\n",
    "        else:\n",
    "            # If the element matches, increase the count\n",
    "            if element == elem:\n",
    "                count += 1\n",
    "    return count\n",
    "\n",
    "# User input for the nested list\n",
    "user_input = input(\"Enter a nested list (e.g., [[1, 2], [2, 3], [2, 4]]): \")\n",
    "\n",
    "# Convert the input string into an actual nested list\n",
    "nested_list = eval(user_input)\n",
    "\n",
    "# User input for the element to count\n",
    "elem_input = input(\"Enter the element to count: \")\n",
    "\n",
    "# Convert the input to the appropriate type\n",
    "elem = int(elem_input) if elem_input.isdigit() else elem_input\n",
    "\n",
    "# Get the count of occurrences of the element\n",
    "count = count_occurrences(nested_list, elem)\n",
    "\n",
    "# Print the result\n",
    "print(f\"The element {elem} appears {count} times in the nested list.\")\n"
   ]
  },
  {
   "cell_type": "code",
   "execution_count": 20,
   "id": "13414690-1bfb-476d-b3d9-c96be4dd0233",
   "metadata": {},
   "outputs": [
    {
     "name": "stdin",
     "output_type": "stream",
     "text": [
      "Enter a deeply nested list (e.g., [[[1, 2], [3, 4]], [[5, 6], [7, 8]]]):   [[[1, 2], [3, 4]], [[5, 6], [7, 8]]]\n"
     ]
    },
    {
     "name": "stdout",
     "output_type": "stream",
     "text": [
      "The flattened list is: [1, 2, 3, 4, 5, 6, 7, 8]\n"
     ]
    }
   ],
   "source": [
    "#7. Flatten a List of Lists of Lists:\n",
    "def deep_flatten(lst):\n",
    "    \"\"\"\n",
    "    Flattens a deeply nested list of lists into a single list, regardless of the depth.\n",
    "    \n",
    "    Parameters:\n",
    "    lst (list): The deeply nested list to flatten.\n",
    "    \n",
    "    Returns:\n",
    "    list: A flattened version of the input list.\n",
    "    \"\"\"\n",
    "    flattened = []\n",
    "    for element in lst:\n",
    "        if isinstance(element, list):\n",
    "            # Recursively call deep_flatten for nested lists\n",
    "            flattened.extend(deep_flatten(element))\n",
    "        else:\n",
    "            # If the element is not a list, add it to the flattened list\n",
    "            flattened.append(element)\n",
    "    return flattened\n",
    "\n",
    "# User input for the deeply nested list\n",
    "user_input = input(\"Enter a deeply nested list (e.g., [[[1, 2], [3, 4]], [[5, 6], [7, 8]]]): \")\n",
    "\n",
    "# Convert the input string into an actual nested list\n",
    "nested_list = eval(user_input)\n",
    "\n",
    "# Flatten the nested list\n",
    "flattened_list = deep_flatten(nested_list)\n",
    "\n",
    "# Print the flattened list\n",
    "print(\"The flattened list is:\", flattened_list)\n"
   ]
  },
  {
   "cell_type": "code",
   "execution_count": 25,
   "id": "55f1fb1c-8ef9-46e1-a35d-7edb3a550276",
   "metadata": {},
   "outputs": [
    {
     "name": "stdin",
     "output_type": "stream",
     "text": [
      "Enter a nested list (e.g., [[1, 2], [3, 4], [5, 6]]):  [[3], [3, 4], [5, 6]]\n"
     ]
    },
    {
     "name": "stdout",
     "output_type": "stream",
     "text": [
      "The average of all elements in the nested list is: 4.2\n"
     ]
    }
   ],
   "source": [
    "#8. Nested List Average:\n",
    "def average_nested(lst):\n",
    "    \"\"\"\n",
    "    Calculates the average of all elements in a nested list.\n",
    "    \n",
    "    Parameters:\n",
    "    lst (list): The nested list containing numeric elements.\n",
    "    \n",
    "    Returns:\n",
    "    float: The average of all the elements in the nested list.\n",
    "    \"\"\"\n",
    "    total_sum = 0\n",
    "    total_count = 0\n",
    "    \n",
    "    # Iterate through each element in the nested list\n",
    "    for element in lst:\n",
    "        if isinstance(element, list):\n",
    "            # Recursively call average_nested for sublists and get the sum and count\n",
    "            sub_sum, sub_count = average_nested(element)\n",
    "            total_sum += sub_sum\n",
    "            total_count += sub_count\n",
    "        else:\n",
    "            # Add the element to total sum and increment count\n",
    "            total_sum += element\n",
    "            total_count += 1\n",
    "    \n",
    "    return total_sum, total_count  # Return both sum and count\n",
    "\n",
    "# User input for the nested list\n",
    "user_input = input(\"Enter a nested list (e.g., [[1, 2], [3, 4], [5, 6]]): \")\n",
    "\n",
    "# Convert the input string into an actual nested list\n",
    "nested_list = eval(user_input)\n",
    "\n",
    "# Get the sum and count of all elements in the nested list\n",
    "total_sum, total_count = average_nested(nested_list)\n",
    "\n",
    "# Calculate the average\n",
    "if total_count == 0:\n",
    "    print(\"The list is empty.\")\n",
    "else:\n",
    "    average = total_sum / total_count\n",
    "    print(\"The average of all elements in the nested list is:\", average)\n"
   ]
  },
  {
   "cell_type": "markdown",
   "id": "403fbeed-8d0b-4b24-8a5f-83520b3175ab",
   "metadata": {},
   "source": [
    "To - Do - NumPy"
   ]
  },
  {
   "cell_type": "markdown",
   "id": "81569e8d-1a8f-4ffc-8515-8fef34483468",
   "metadata": {},
   "source": [
    "Basic Vector and Matrix Operation with Numpy"
   ]
  },
  {
   "cell_type": "markdown",
   "id": "9a784da0-2e6b-409b-a210-70e647d43f32",
   "metadata": {},
   "source": [
    "Problem - 1: Array Creation:"
   ]
  },
  {
   "cell_type": "code",
   "execution_count": 26,
   "id": "67534374-9e72-4642-8982-6178d5d5a507",
   "metadata": {},
   "outputs": [
    {
     "name": "stdout",
     "output_type": "stream",
     "text": [
      "1. Empty Array (2x2):\n",
      " [[0. 0.]\n",
      " [0. 0.]]\n",
      "\n",
      "2. All-One Array (4x2):\n",
      " [[1. 1.]\n",
      " [1. 1.]\n",
      " [1. 1.]\n",
      " [1. 1.]]\n",
      "\n",
      "3. Array filled with a value (3x3, filled with 7):\n",
      " [[7 7 7]\n",
      " [7 7 7]\n",
      " [7 7 7]]\n",
      "\n",
      "4. Zeros array with same shape as sample array:\n",
      " [[0 0 0]\n",
      " [0 0 0]]\n",
      "\n",
      "5. Ones array with same shape as sample array:\n",
      " [[1 1 1]\n",
      " [1 1 1]]\n",
      "\n",
      "6. Converted NumPy array from list:\n",
      " [1 2 3 4]\n"
     ]
    }
   ],
   "source": [
    "import numpy as np\n",
    "\n",
    "# 1. Initialize an empty array with size 2x2\n",
    "empty_array = np.empty((2, 2))\n",
    "print(\"1. Empty Array (2x2):\\n\", empty_array)\n",
    "\n",
    "# 2. Initialize an all-one array with size 4x2\n",
    "ones_array = np.ones((4, 2))\n",
    "print(\"\\n2. All-One Array (4x2):\\n\", ones_array)\n",
    "\n",
    "# 3. Return a new array of given shape and type, filled with a fill value\n",
    "fill_value_array = np.full((3, 3), 7)  # Example: 3x3 array filled with 7\n",
    "print(\"\\n3. Array filled with a value (3x3, filled with 7):\\n\", fill_value_array)\n",
    "\n",
    "# 4. Return a new array of zeros with the same shape and type as a given array\n",
    "sample_array = np.array([[1, 2, 3], [4, 5, 6]])  # Example array\n",
    "zeros_like_array = np.zeros_like(sample_array)\n",
    "print(\"\\n4. Zeros array with same shape as sample array:\\n\", zeros_like_array)\n",
    "\n",
    "# 5. Return a new array of ones with the same shape and type as a given array\n",
    "ones_like_array = np.ones_like(sample_array)\n",
    "print(\"\\n5. Ones array with same shape as sample array:\\n\", ones_like_array)\n",
    "\n",
    "# 6. Convert an existing list to a NumPy array\n",
    "new_list = [1, 2, 3, 4]\n",
    "numpy_array = np.array(new_list)\n",
    "print(\"\\n6. Converted NumPy array from list:\\n\", numpy_array)\n"
   ]
  },
  {
   "cell_type": "markdown",
   "id": "5a8c068e-e460-4baa-a7ab-93f87a7773ca",
   "metadata": {},
   "source": [
    "Problem - 2: Array Manipulation: Numerical Ranges and Array indexing:"
   ]
  },
  {
   "cell_type": "code",
   "execution_count": 27,
   "id": "6a56c277-fabc-44fb-91ce-03bf5ed4a8de",
   "metadata": {},
   "outputs": [
    {
     "name": "stdout",
     "output_type": "stream",
     "text": [
      "1. Array with values from 10 to 49:\n",
      " [10 11 12 13 14 15 16 17 18 19 20 21 22 23 24 25 26 27 28 29 30 31 32 33\n",
      " 34 35 36 37 38 39 40 41 42 43 44 45 46 47 48 49]\n",
      "\n",
      "2. 3x3 Matrix with values from 0 to 8:\n",
      " [[0 1 2]\n",
      " [3 4 5]\n",
      " [6 7 8]]\n",
      "\n",
      "3. 3x3 Identity Matrix:\n",
      " [[1. 0. 0.]\n",
      " [0. 1. 0.]\n",
      " [0. 0. 1.]]\n",
      "\n",
      "4. Mean of random array of size 30: 0.5444930066060911\n",
      "\n",
      "5. Minimum value: 0.015323432960566152\n",
      "   Maximum value: 0.9993908414140933\n",
      "\n",
      "6. Zero array with 5th element replaced with 1:\n",
      " [0. 0. 0. 0. 1. 0. 0. 0. 0. 0.]\n",
      "\n",
      "7. Reversed array:\n",
      " [0 4 0 0 2 1]\n",
      "\n",
      "8. 2D array with 1 on border and 0 inside:\n",
      " [[1. 1. 1. 1. 1.]\n",
      " [1. 0. 0. 0. 1.]\n",
      " [1. 0. 0. 0. 1.]\n",
      " [1. 0. 0. 0. 1.]\n",
      " [1. 1. 1. 1. 1.]]\n",
      "\n",
      "9. 8x8 Checkerboard Pattern:\n",
      " [[0 1 0 1 0 1 0 1]\n",
      " [1 0 1 0 1 0 1 0]\n",
      " [0 1 0 1 0 1 0 1]\n",
      " [1 0 1 0 1 0 1 0]\n",
      " [0 1 0 1 0 1 0 1]\n",
      " [1 0 1 0 1 0 1 0]\n",
      " [0 1 0 1 0 1 0 1]\n",
      " [1 0 1 0 1 0 1 0]]\n"
     ]
    }
   ],
   "source": [
    "import numpy as np\n",
    "\n",
    "# 1. Create an array with values ranging from 10 to 49\n",
    "array_10_to_49 = np.arange(10, 50)\n",
    "print(\"1. Array with values from 10 to 49:\\n\", array_10_to_49)\n",
    "\n",
    "# 2. Create a 3x3 matrix with values ranging from 0 to 8\n",
    "matrix_3x3 = np.arange(9).reshape(3, 3)\n",
    "print(\"\\n2. 3x3 Matrix with values from 0 to 8:\\n\", matrix_3x3)\n",
    "\n",
    "# 3. Create a 3x3 identity matrix\n",
    "identity_matrix = np.eye(3)\n",
    "print(\"\\n3. 3x3 Identity Matrix:\\n\", identity_matrix)\n",
    "\n",
    "# 4. Create a random array of size 30 and find the mean of the array\n",
    "random_array = np.random.random(30)\n",
    "mean_value = random_array.mean()\n",
    "print(\"\\n4. Mean of random array of size 30:\", mean_value)\n",
    "\n",
    "# 5. Create a 10x10 array with random values and find the minimum and maximum values\n",
    "random_matrix = np.random.random((10, 10))\n",
    "min_value = random_matrix.min()\n",
    "max_value = random_matrix.max()\n",
    "print(\"\\n5. Minimum value:\", min_value)\n",
    "print(\"   Maximum value:\", max_value)\n",
    "\n",
    "# 6. Create a zero array of size 10 and replace 5th element with 1\n",
    "zero_array = np.zeros(10)\n",
    "zero_array[4] = 1  # Index 4 corresponds to the 5th element\n",
    "print(\"\\n6. Zero array with 5th element replaced with 1:\\n\", zero_array)\n",
    "\n",
    "# 7. Reverse an array arr = [1,2,0,0,4,0]\n",
    "arr = np.array([1, 2, 0, 0, 4, 0])\n",
    "reversed_arr = arr[::-1]\n",
    "print(\"\\n7. Reversed array:\\n\", reversed_arr)\n",
    "\n",
    "# 8. Create a 2D array with 1 on the border and 0 inside\n",
    "border_array = np.ones((5, 5))\n",
    "border_array[1:-1, 1:-1] = 0\n",
    "print(\"\\n8. 2D array with 1 on border and 0 inside:\\n\", border_array)\n",
    "\n",
    "# 9. Create an 8x8 matrix and fill it with a checkerboard pattern\n",
    "checkerboard = np.zeros((8, 8), dtype=int)\n",
    "checkerboard[1::2, ::2] = 1  # Fill 1 at even indices of odd rows\n",
    "checkerboard[::2, 1::2] = 1  # Fill 1 at odd indices of even rows\n",
    "print(\"\\n9. 8x8 Checkerboard Pattern:\\n\", checkerboard)\n"
   ]
  },
  {
   "cell_type": "markdown",
   "id": "06e5758f-06c9-44eb-be0c-26821d65cc24",
   "metadata": {},
   "source": [
    "Problem - 3: Array Operations:"
   ]
  },
  {
   "cell_type": "code",
   "execution_count": 28,
   "id": "bb6b6d2f-4e97-4b1f-841a-65a81f5f2df6",
   "metadata": {},
   "outputs": [
    {
     "name": "stdout",
     "output_type": "stream",
     "text": [
      "1. Addition of x and y:\n",
      " [[ 6  8]\n",
      " [10 13]]\n",
      "\n",
      "2. Subtraction of x and y:\n",
      " [[-4 -4]\n",
      " [-4 -3]]\n",
      "\n",
      "3. Multiplication of x by 3:\n",
      " [[ 3  6]\n",
      " [ 9 15]]\n",
      "\n",
      "4. Square of each element in x:\n",
      " [[ 1  4]\n",
      " [ 9 25]]\n",
      "\n",
      "5. Dot product:\n",
      "   v . w: 219\n",
      "   x . v:\n",
      " [29 77]\n",
      "   x . y:\n",
      " [[19 22]\n",
      " [50 58]]\n",
      "\n",
      "6. Concatenation:\n",
      "   Concatenation of x and y along rows:\n",
      " [[1 2]\n",
      " [3 5]\n",
      " [5 6]\n",
      " [7 8]]\n",
      "   Concatenation of v and w along columns:\n",
      " [[ 9 10]\n",
      " [11 12]]\n",
      "\n",
      "7. Error when trying to concatenate x and v: all the input arrays must have same number of dimensions, but the array at index 0 has 2 dimension(s) and the array at index 1 has 1 dimension(s)\n"
     ]
    }
   ],
   "source": [
    "import numpy as np\n",
    "\n",
    "# Given arrays\n",
    "x = np.array([[1, 2], [3, 5]])\n",
    "y = np.array([[5, 6], [7, 8]])\n",
    "v = np.array([9, 10])\n",
    "w = np.array([11, 12])\n",
    "\n",
    "# 1. Add the two arrays\n",
    "add_xy = x + y\n",
    "print(\"1. Addition of x and y:\\n\", add_xy)\n",
    "\n",
    "# 2. Subtract the two arrays\n",
    "subtract_xy = x - y\n",
    "print(\"\\n2. Subtraction of x and y:\\n\", subtract_xy)\n",
    "\n",
    "# 3. Multiply the array with any integer (e.g., 3)\n",
    "multiply_x = x * 3\n",
    "print(\"\\n3. Multiplication of x by 3:\\n\", multiply_x)\n",
    "\n",
    "# 4. Find the square of each element of the array x\n",
    "square_x = np.square(x)\n",
    "print(\"\\n4. Square of each element in x:\\n\", square_x)\n",
    "\n",
    "# 5. Find the dot product\n",
    "dot_vw = np.dot(v, w)\n",
    "dot_xv = np.dot(x, v)  \n",
    "dot_xy = np.dot(x, y)\n",
    "\n",
    "print(\"\\n5. Dot product:\")\n",
    "print(\"   v . w:\", dot_vw)\n",
    "print(\"   x . v:\\n\", dot_xv)\n",
    "print(\"   x . y:\\n\", dot_xy)\n",
    "\n",
    "# 6. Concatenate x and y along rows & Concatenate v and w along columns\n",
    "concat_xy_row = np.concatenate((x, y), axis=0)\n",
    "concat_vw_col = np.vstack((v, w))  # np.vstack() stacks along column\n",
    "\n",
    "print(\"\\n6. Concatenation:\")\n",
    "print(\"   Concatenation of x and y along rows:\\n\", concat_xy_row)\n",
    "print(\"   Concatenation of v and w along columns:\\n\", concat_vw_col)\n",
    "\n",
    "# 7. Attempt to concatenate x and v\n",
    "try:\n",
    "    concat_xv = np.concatenate((x, v), axis=0)  # Trying to concatenate x (2x2) and v (1x2)\n",
    "    print(\"\\n7. Concatenation of x and v:\\n\", concat_xv)\n",
    "except ValueError as e:\n",
    "    print(\"\\n7. Error when trying to concatenate x and v:\", e)\n",
    "\n"
   ]
  },
  {
   "cell_type": "markdown",
   "id": "a687b675-6c5c-4e1e-99d9-a7fb1b43b87a",
   "metadata": {},
   "source": [
    "Problem - 4: Matrix Operations:"
   ]
  },
  {
   "cell_type": "code",
   "execution_count": 29,
   "id": "ba4cd55f-9324-4f3f-b81e-5a724faa842e",
   "metadata": {},
   "outputs": [],
   "source": [
    "import numpy as np\n",
    "\n",
    "A = np.array([[3, 4], [7, 8]])\n",
    "B = np.array([[5, 3], [2, 1]])\n"
   ]
  },
  {
   "cell_type": "code",
   "execution_count": 30,
   "id": "722efd96-8dad-465f-9db0-14c935b823d5",
   "metadata": {},
   "outputs": [
    {
     "name": "stdout",
     "output_type": "stream",
     "text": [
      "A * A_inv = \n",
      " [[1. 0.]\n",
      " [0. 1.]]\n"
     ]
    }
   ],
   "source": [
    "#Prove A.A−1 = I.\n",
    "\n",
    "A_inv = np.linalg.inv(A)  # Compute A inverse\n",
    "I = np.dot(A, A_inv)  # A * A^(-1)\n",
    "\n",
    "# Round to remove floating-point errors\n",
    "I = np.round(I, decimals=10)\n",
    "print(\"A * A_inv = \\n\", I)\n",
    "\n",
    "\n"
   ]
  },
  {
   "cell_type": "code",
   "execution_count": 31,
   "id": "4c29eaa6-fa8c-4faa-bfa5-59e69a31efb7",
   "metadata": {},
   "outputs": [
    {
     "name": "stdout",
     "output_type": "stream",
     "text": [
      "AB = \n",
      " [[23 13]\n",
      " [51 29]]\n",
      "BA = \n",
      " [[36 44]\n",
      " [13 16]]\n",
      "Are they equal?  False\n"
     ]
    }
   ],
   "source": [
    "#Prove AB ̸= BA.\n",
    "\n",
    "AB = np.dot(A, B)\n",
    "BA = np.dot(B, A)\n",
    "\n",
    "print(\"AB = \\n\", AB)\n",
    "print(\"BA = \\n\", BA)\n",
    "print(\"Are they equal? \", np.array_equal(AB, BA))\n"
   ]
  },
  {
   "cell_type": "code",
   "execution_count": 32,
   "id": "bcdf29c5-6997-453b-94bb-4481882c0948",
   "metadata": {},
   "outputs": [
    {
     "name": "stdout",
     "output_type": "stream",
     "text": [
      "Transpose of (AB): \n",
      " [[23 51]\n",
      " [13 29]]\n",
      "B^T * A^T: \n",
      " [[23 51]\n",
      " [13 29]]\n",
      "Are they equal?  True\n"
     ]
    }
   ],
   "source": [
    "#Prove (AB)^T = A^T .B^T\n",
    "AB_T = np.transpose(np.dot(A, B))  # (AB)^T\n",
    "BT_AT = np.dot(np.transpose(B), np.transpose(A))  # B^T * A^T\n",
    "\n",
    "print(\"Transpose of (AB): \\n\", AB_T)\n",
    "print(\"B^T * A^T: \\n\", BT_AT)\n",
    "print(\"Are they equal? \", np.array_equal(AB_T, BT_AT))\n",
    "\n"
   ]
  },
  {
   "cell_type": "markdown",
   "id": "d7c4d636-0a10-46cb-8fad-f43ad7800a52",
   "metadata": {},
   "source": [
    "Problem 2: Solving System of Linear Equations using Inverse Method"
   ]
  },
  {
   "cell_type": "code",
   "execution_count": 33,
   "id": "8c9a2471-4c53-4141-85d7-0ecf668dbe78",
   "metadata": {},
   "outputs": [
    {
     "name": "stdout",
     "output_type": "stream",
     "text": [
      "Solution for [x, y, z]: [ 2.  1. -2.]\n"
     ]
    }
   ],
   "source": [
    "# Define the coefficient matrix A\n",
    "A = np.array([[2, -3, 1],\n",
    "              [1, -1, 2],\n",
    "              [3, 1, -1]])\n",
    "\n",
    "# Define the constants matrix B\n",
    "B = np.array([-1, -3, 9])\n",
    "\n",
    "# Compute the inverse of A\n",
    "A_inv = np.linalg.inv(A)\n",
    "\n",
    "# Solve for X\n",
    "X = np.dot(A_inv, B)\n",
    "\n",
    "print(\"Solution for [x, y, z]:\", X)\n"
   ]
  },
  {
   "cell_type": "code",
   "execution_count": 34,
   "id": "dc77e182-726c-4738-822b-83540fd4adf8",
   "metadata": {},
   "outputs": [
    {
     "name": "stdout",
     "output_type": "stream",
     "text": [
      "Solution using np.linalg.solve: [ 2.  1. -2.]\n"
     ]
    }
   ],
   "source": [
    "X = np.linalg.solve(A, B)\n",
    "print(\"Solution using np.linalg.solve:\", X)\n"
   ]
  },
  {
   "cell_type": "markdown",
   "id": "24d2847a-36cc-4f22-a8f1-09ded333efaa",
   "metadata": {},
   "source": [
    "Experiment: How Fast is Numpy?"
   ]
  },
  {
   "cell_type": "code",
   "execution_count": 35,
   "id": "6af7b182-b55f-4a7b-9d2b-1fa970de77cc",
   "metadata": {},
   "outputs": [],
   "source": [
    "import numpy as np\n",
    "import time\n"
   ]
  },
  {
   "cell_type": "code",
   "execution_count": 37,
   "id": "f080d594-1230-4208-b2d0-5a52f932b2b0",
   "metadata": {},
   "outputs": [
    {
     "name": "stdout",
     "output_type": "stream",
     "text": [
      "Python Lists Addition Time: 0.06877279281616211 seconds\n",
      "NumPy Arrays Addition Time: 0.0015239715576171875 seconds\n"
     ]
    }
   ],
   "source": [
    "#Using Python Lists\n",
    "size = 1_000_000\n",
    "list1 = list(range(size))\n",
    "list2 = list(range(size))\n",
    "\n",
    "start_time = time.time()\n",
    "result_list = [list1[i] + list2[i] for i in range(size)]\n",
    "end_time = time.time()\n",
    "\n",
    "print(\"Python Lists Addition Time:\", end_time - start_time, \"seconds\")\n",
    "\n",
    "#Using NumPy Arrays\n",
    "array1 = np.arange(size)\n",
    "array2 = np.arange(size)\n",
    "\n",
    "start_time = time.time()\n",
    "result_array = array1 + array2\n",
    "end_time = time.time()\n",
    "\n",
    "print(\"NumPy Arrays Addition Time:\", end_time - start_time, \"seconds\")\n",
    "\n"
   ]
  },
  {
   "cell_type": "code",
   "execution_count": 38,
   "id": "11248ebe-acbf-42e9-98f8-0b5268025886",
   "metadata": {},
   "outputs": [
    {
     "name": "stdout",
     "output_type": "stream",
     "text": [
      "Python Lists Multiplication Time: 0.10402774810791016 seconds\n",
      "NumPy Arrays Multiplication Time: 0.00783681869506836 seconds\n"
     ]
    }
   ],
   "source": [
    "#Using Python Lists\n",
    "start_time = time.time()\n",
    "result_list = [list1[i] * list2[i] for i in range(size)]\n",
    "end_time = time.time()\n",
    "\n",
    "print(\"Python Lists Multiplication Time:\", end_time - start_time, \"seconds\")\n",
    "\n",
    "\n",
    "#Using NumPy Arrays\n",
    "start_time = time.time()\n",
    "result_array = array1 * array2\n",
    "end_time = time.time()\n",
    "\n",
    "print(\"NumPy Arrays Multiplication Time:\", end_time - start_time, \"seconds\")\n",
    "\n"
   ]
  },
  {
   "cell_type": "code",
   "execution_count": 39,
   "id": "40764e9d-f846-4430-be51-543a901c1cce",
   "metadata": {},
   "outputs": [
    {
     "name": "stdout",
     "output_type": "stream",
     "text": [
      "Python Lists Dot Product Time: 0.08055281639099121 seconds\n",
      "NumPy Arrays Dot Product Time: 0.0005309581756591797 seconds\n"
     ]
    }
   ],
   "source": [
    "#Using Python Lists\n",
    "start_time = time.time()\n",
    "dot_product_list = sum(list1[i] * list2[i] for i in range(size))\n",
    "end_time = time.time()\n",
    "\n",
    "print(\"Python Lists Dot Product Time:\", end_time - start_time, \"seconds\")\n",
    "\n",
    "#Using NumPy Arrays\n",
    "start_time = time.time()\n",
    "dot_product_array = np.dot(array1, array2)\n",
    "end_time = time.time()\n",
    "\n",
    "print(\"NumPy Arrays Dot Product Time:\", end_time - start_time, \"seconds\")\n"
   ]
  },
  {
   "cell_type": "code",
   "execution_count": 41,
   "id": "0cdecf98-b125-4f71-8227-3b75583d1ad0",
   "metadata": {},
   "outputs": [
    {
     "name": "stdout",
     "output_type": "stream",
     "text": [
      "Python Lists Matrix Multiplication Time: 41.93743109703064 seconds\n",
      "NumPy Arrays Matrix Multiplication Time: 0.484935998916626 seconds\n"
     ]
    }
   ],
   "source": [
    "#Using Python Lists\n",
    "size = 1000\n",
    "matrix1 = [[i for i in range(size)] for j in range(size)]\n",
    "matrix2 = [[j for j in range(size)] for i in range(size)]\n",
    "\n",
    "start_time = time.time()\n",
    "result_matrix = [[sum(a * b for a, b in zip(row, col)) for col in zip(*matrix2)] for row in matrix1]\n",
    "end_time = time.time()\n",
    "\n",
    "print(\"Python Lists Matrix Multiplication Time:\", end_time - start_time, \"seconds\")\n",
    "\n",
    "#Using NumPy Arrays\n",
    "matrix1_np = np.arange(size * size).reshape(size, size)\n",
    "matrix2_np = np.arange(size * size).reshape(size, size)\n",
    "\n",
    "start_time = time.time()\n",
    "result_matrix_np = np.dot(matrix1_np, matrix2_np)\n",
    "end_time = time.time()\n",
    "\n",
    "print(\"NumPy Arrays Matrix Multiplication Time:\", end_time - start_time, \"seconds\")\n"
   ]
  }
 ],
 "metadata": {
  "kernelspec": {
   "display_name": "Python 3 (ipykernel)",
   "language": "python",
   "name": "python3"
  },
  "language_info": {
   "codemirror_mode": {
    "name": "ipython",
    "version": 3
   },
   "file_extension": ".py",
   "mimetype": "text/x-python",
   "name": "python",
   "nbconvert_exporter": "python",
   "pygments_lexer": "ipython3",
   "version": "3.9.19"
  }
 },
 "nbformat": 4,
 "nbformat_minor": 5
}
